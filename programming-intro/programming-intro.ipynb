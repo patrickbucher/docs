{
 "cells": [
  {
   "cell_type": "markdown",
   "metadata": {},
   "source": [
    "# Einführung in die Programmierung mit Python"
   ]
  },
  {
   "cell_type": "markdown",
   "metadata": {},
   "source": [
    "## Die Funktionsweise von Programmen\n",
    "\n",
    "Programme funktionieren nach dem gleichen Prinzip:\n",
    "\n",
    "1. Es werden Daten geladen.\n",
    "2. Diese Daten werden verarbeitet.\n",
    "3. Das Ergebnis der Verarbeitung wird ausgegeben.\n",
    "\n",
    "Die Daten können aus verschiedenen Quellen kommen. Die Verarbeitung kann ganz unterschiedlich ablaufen. Und das Ergebnis kann auf verschiedene Weisen ausgegeben werden.\n",
    "\n",
    "Daten können aus Dateien, von einer grafischen Benutzeroberfläche, aus dem Internet, von Sensoren oder aus ganz anderen Quellen stammen.\n",
    "\n",
    "Bei der Verarbeitung kommt es einerseits darauf an, was für Daten man hat, und andererseits, was man damit anstellen will. Vielleicht will man die Daten sortieren, gruppieren, umsrukturieren, umformatieren, überprüfen oder sonst etwas mit ihnen anstellen.\n",
    "\n",
    "Die Ausgabe kann wiederum auf verschiedenste Weise erfolgen. Informationen können auf den Bildschirm ausgegeben, in Dateien abgespeichert, auf Papier ausgedruckt, oder per Internet weitergeleitet werden."
   ]
  },
  {
   "cell_type": "markdown",
   "metadata": {},
   "source": [
    "### Daten einlesen\n",
    "Mithilfe der Funktion `input()` können Daten direkt vom Benutzer eingelesen werden. Dieser tippt die Informationen über die Tastatur ein, und die Funktion `input()` liefert die eingegebenen Daten an das Programm zurück.\n",
    "\n",
    "Das folgende Programm fragt den Benutzer nach dem Namen und speichert diesen nach der Eingabe in der Variablen `name` ab.\n",
    "\n",
    "Markiere den untenstehenden Code, sodass ein Rahmen darum herum erscheint. Drücke dann `Ctrl`+`Return`, um das Programm auszuführen. Gib dann deinen Namen ein, und bestätige mit `Return`:"
   ]
  },
  {
   "cell_type": "code",
   "execution_count": 7,
   "metadata": {},
   "outputs": [
    {
     "name": "stdout",
     "output_type": "stream",
     "text": [
      "Wie heisst du? Seppetoni\n"
     ]
    }
   ],
   "source": [
    "name = input(\"Wie heisst du? \")"
   ]
  },
  {
   "cell_type": "markdown",
   "metadata": {},
   "source": [
    "### Daten verarbeiten\n",
    "\n",
    "Das Programm hat nun die Daten eingelesen. Es handelt sich dabei nur um eine einzelne Information: Den Namen des Benutzers. Dieser kann aber bereits zur Verarbeitung verwendet werden.\n",
    "\n",
    "Eine mögliche Verarbeitung besteht darin, den Namen in Grossbuchstaben zu schreiben. Hierzu gibt es eine sogenannte \"Methode\" namens `upper()`, welche direkt auf dem Namen ausgeführt werden kann:"
   ]
  },
  {
   "cell_type": "code",
   "execution_count": 8,
   "metadata": {},
   "outputs": [],
   "source": [
    "name_in_grossbuchstaben = name.upper()"
   ]
  },
  {
   "cell_type": "markdown",
   "metadata": {},
   "source": [
    "Eine zusätzliche Variable namens `name_in_grossbuchstaben` enthält nun den eingegebenen Namen, jedoch komplett in Grossbuchstaben geschrieben.\n",
    "\n",
    "### Daten ausgeben\n",
    "\n",
    "Als letzter Schritt kann dieser Name nun ausgegeben werden. Hierzu ruft man die Funktion `print()` auf und übergibt ihr die auszugebende Variable als Argument:"
   ]
  },
  {
   "cell_type": "code",
   "execution_count": 11,
   "metadata": {},
   "outputs": [
    {
     "name": "stdout",
     "output_type": "stream",
     "text": [
      "SEPPETONI\n"
     ]
    }
   ],
   "source": [
    "print(name_in_grossbuchstaben)"
   ]
  },
  {
   "cell_type": "markdown",
   "metadata": {},
   "source": [
    "## Ein nützlich(er)es Programm\n",
    "\n",
    "Nach dem Prinzip \"Eingabe, Verarbeitung, Ausgabe\" lassen sich verschiedenste Programme entwickeln. Natürlich ist es möglich, die eingelesenen Programme auf eine andere Art zu verarbeiten, um dann eine andere Ausgabe zu erzeugen.\n",
    "\n",
    "Das Grossschreiben eines eingegebenen Namens ist nicht besonders nützlich. Es wäre aber bereits interessanter, wenn man erfahren würde, wie viele Buchstaben ein eingegebener Name hat.\n",
    "\n",
    "Der Name kann wieder gleich eingelesen werden:"
   ]
  },
  {
   "cell_type": "code",
   "execution_count": 12,
   "metadata": {},
   "outputs": [
    {
     "name": "stdout",
     "output_type": "stream",
     "text": [
      "Wie heisst du? Peter\n"
     ]
    }
   ],
   "source": [
    "name = input(\"Wie heisst du? \")"
   ]
  },
  {
   "cell_type": "markdown",
   "metadata": {},
   "source": [
    "Um die Anzahl Buchstaben zu zählen, kommt die Funktion `len()` zum Einsatz (kurz für \"length\"). Hierbei handelt es sich nicht um eine \"Methode\" wie zuvor `upper()`, welche direkt auf dem Namen aufgerufen werden kann, sondern um eine Funktion, der man eine Variable übergeben muss (ähnlich wie `print()`):"
   ]
  },
  {
   "cell_type": "code",
   "execution_count": 13,
   "metadata": {},
   "outputs": [],
   "source": [
    "anzahl_buchstaben = len(name)"
   ]
  },
  {
   "cell_type": "markdown",
   "metadata": {},
   "source": [
    "Die ermittelte Anzahl Buchstaben, die der eingegebene Name hat, kann nun mittels `print()` ausgegeben werden:"
   ]
  },
  {
   "cell_type": "code",
   "execution_count": 14,
   "metadata": {},
   "outputs": [
    {
     "name": "stdout",
     "output_type": "stream",
     "text": [
      "5\n"
     ]
    }
   ],
   "source": [
    "print(anzahl_buchstaben)"
   ]
  },
  {
   "cell_type": "markdown",
   "metadata": {},
   "source": [
    "## Ein einfacher Taschenrechner\n",
    "\n",
    "Mit einer einzigen Information lassen sich kaum nützliche Programme schreiben. Die Stärke von Comptern ist, dass sie mit sehr vielen und grossen Daten umgehen können. Computer werden teilweise auch als \"Rechner\" bezeichnet. Dies kommt daher, dass Computer Maschinen sind, die sich besonders zum Rechnen eignen.\n",
    "\n",
    "Eine einfache Rechnung ist die Addition, z.B. 3 + 5 = 8. Hierzu braucht man keinen Computer. Das Eingeben der beiden Zahlen 3 und 5 dauert schliesslich länger, als wenn man die Berechnung im Kopf anstellen würde.\n",
    "\n",
    "Etwas anders ist es bei grösseren Zahlen. Hier ist es effizienter, wenn man den Computer diese berechnen lässt. Hierzu müssen diese Zahlen aber zunächst wieder eingelesen werden:"
   ]
  },
  {
   "cell_type": "code",
   "execution_count": 24,
   "metadata": {},
   "outputs": [
    {
     "name": "stdout",
     "output_type": "stream",
     "text": [
      "Bitte gib eine Zahl ein: 1000\n",
      "Bitte gib noch eine Zahl ein: 2000\n"
     ]
    }
   ],
   "source": [
    "zahl_1 = input(\"Bitte gib eine Zahl ein: \")\n",
    "zahl_2 = input(\"Bitte gib noch eine Zahl ein: \")"
   ]
  },
  {
   "cell_type": "markdown",
   "metadata": {},
   "source": [
    "Diese beiden Zahlen können nun mit dem Plus-Operator `+` addiert werden:"
   ]
  },
  {
   "cell_type": "code",
   "execution_count": 25,
   "metadata": {},
   "outputs": [],
   "source": [
    "summe = zahl_1 + zahl_2"
   ]
  },
  {
   "cell_type": "markdown",
   "metadata": {},
   "source": [
    "Das Ergebnis kann wieder mit `print()` ausgegeben werden:"
   ]
  },
  {
   "cell_type": "code",
   "execution_count": 26,
   "metadata": {},
   "outputs": [
    {
     "name": "stdout",
     "output_type": "stream",
     "text": [
      "10002000\n"
     ]
    }
   ],
   "source": [
    "print(summe)"
   ]
  },
  {
   "cell_type": "markdown",
   "metadata": {},
   "source": [
    "1000 + 2000 = 10002000\n",
    "\n",
    "Hier kann etwas nicht stimmen! Das Programm funktioniert nicht so, wie es sollte! Statt die beiden Zahlen zusammenzurechnen, werden sie einfach aneinandergehängt! Kann der Computer etwa nicht rechnen?\n",
    "\n",
    "Tatsächlich hat der Computer genau das getan, was wir ihm gesagt haben. Das Problem ist, dass wir offenbar etwas anderes von ihm wollten, als wir es eingegeben haben.\n",
    "\n",
    "Der Computer unterscheidet nämlich zwischen verschiedenen _Datentypen_. Liest man Daten über `input()` ein, wird immer _Text_ zurückgegeben. Mit Text lässt sich jedoch schlecht rechnen. Der Text muss zunächst in eine Zahl umgewandelt werden, damit wir damit rechnen können. Diesen Vorgang nennt man _Konvertieren_.\n",
    "\n",
    "Um Text in eine Zahl zu konvertieren, kann man `int()` verwenden, das praktisch wie eine Funktion verwendet wird:"
   ]
  },
  {
   "cell_type": "code",
   "execution_count": 27,
   "metadata": {},
   "outputs": [],
   "source": [
    "zahl_1 = int(zahl_1)\n",
    "zahl_2 = int(zahl_2)"
   ]
  },
  {
   "cell_type": "markdown",
   "metadata": {},
   "source": [
    "Nun hat man es mit richtigen Zahlen zu tun, mit denen man auch rechnen kann:"
   ]
  },
  {
   "cell_type": "code",
   "execution_count": 28,
   "metadata": {},
   "outputs": [
    {
     "name": "stdout",
     "output_type": "stream",
     "text": [
      "3000\n"
     ]
    }
   ],
   "source": [
    "summe = zahl_1 + zahl_2\n",
    "print(summe)"
   ]
  },
  {
   "cell_type": "markdown",
   "metadata": {},
   "source": [
    "Die Berechnung funktioniert nun korrekt!"
   ]
  },
  {
   "cell_type": "markdown",
   "metadata": {},
   "source": [
    "### Weitere Rechenarten\n",
    "\n",
    "Neben der Addition gibt es noch viele weitere Möglichkeiten, wie zwei Zahlen miteinander verrechnet werden können. Da gibt es z.B. die weiteren Grundrechenarten (Subtraktion, Multiplikation und Division). Das Potenzieren ist eine weitere Möglichkeit (Zahl 1 \"hoch\" Zahl 2 nehmen).\n",
    "\n",
    "Für diese weiteren Rechenarten bietet Python die folgenden Operatoren an:\n",
    "\n",
    "- Subtraktion: `-`\n",
    "- Multiplikation: `*`\n",
    "- Division: `/`\n",
    "- Potenz: `**`\n",
    "\n",
    "Probiere diese Operatoren unten aus. Die Zahlen sind vordefiniert. Die `print()`-Aufrufe, um die Ergebnisse mitsamt Berechnung auszugeben, sind auch schon vorgegeben."
   ]
  },
  {
   "cell_type": "code",
   "execution_count": 29,
   "metadata": {},
   "outputs": [
    {
     "ename": "SyntaxError",
     "evalue": "invalid syntax (<ipython-input-29-f413bcd9f468>, line 4)",
     "output_type": "error",
     "traceback": [
      "\u001b[0;36m  File \u001b[0;32m\"<ipython-input-29-f413bcd9f468>\"\u001b[0;36m, line \u001b[0;32m4\u001b[0m\n\u001b[0;31m    summe =\u001b[0m\n\u001b[0m            ^\u001b[0m\n\u001b[0;31mSyntaxError\u001b[0m\u001b[0;31m:\u001b[0m invalid syntax\n"
     ]
    }
   ],
   "source": [
    "zahl_1 = 5\n",
    "zahl_2 = 3\n",
    "\n",
    "# Ab hier musst du den Code erweitern:\n",
    "summe = \n",
    "differenz = \n",
    "produkt = \n",
    "quotient = \n",
    "potenz = \n",
    "# Ab hier kannst du den Code so lassen, wie er ist:\n",
    "\n",
    "print(f'{zahl_1} + {zahl_2} = {summe}')\n",
    "print(f'{zahl_1} - {zahl_2} = {differenz}')\n",
    "print(f'{zahl_1} * {zahl_2} = {produkt}')\n",
    "print(f'{zahl_1} / {zahl_2} = {quotient}')\n",
    "print(f'{zahl_1} ** {zahl_2} = {potenz}')"
   ]
  },
  {
   "cell_type": "markdown",
   "metadata": {},
   "source": [
    "Hat das geklappt? Sehr gut! Damit kannst du bereits einen einfachen Taschenrechner schreiben!"
   ]
  }
 ],
 "metadata": {
  "kernelspec": {
   "display_name": "Python 3",
   "language": "python",
   "name": "python3"
  },
  "language_info": {
   "codemirror_mode": {
    "name": "ipython",
    "version": 3
   },
   "file_extension": ".py",
   "mimetype": "text/x-python",
   "name": "python",
   "nbconvert_exporter": "python",
   "pygments_lexer": "ipython3",
   "version": "3.8.3"
  }
 },
 "nbformat": 4,
 "nbformat_minor": 2
}
